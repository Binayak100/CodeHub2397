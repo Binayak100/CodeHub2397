{
 "cells": [
  {
   "cell_type": "code",
   "execution_count": 7,
   "id": "89e35aab-6625-4c83-975d-0645f63c8734",
   "metadata": {},
   "outputs": [
    {
     "data": {
      "text/html": [
       "<div>\n",
       "<style scoped>\n",
       "    .dataframe tbody tr th:only-of-type {\n",
       "        vertical-align: middle;\n",
       "    }\n",
       "\n",
       "    .dataframe tbody tr th {\n",
       "        vertical-align: top;\n",
       "    }\n",
       "\n",
       "    .dataframe thead th {\n",
       "        text-align: right;\n",
       "    }\n",
       "</style>\n",
       "<table border=\"1\" class=\"dataframe\">\n",
       "  <thead>\n",
       "    <tr style=\"text-align: right;\">\n",
       "      <th></th>\n",
       "      <th>Title</th>\n",
       "      <th>URL</th>\n",
       "      <th>Description</th>\n",
       "      <th>Rating</th>\n",
       "      <th>Genre</th>\n",
       "      <th>Duration</th>\n",
       "    </tr>\n",
       "  </thead>\n",
       "  <tbody>\n",
       "    <tr>\n",
       "      <th>0</th>\n",
       "      <td>The Shawshank Redemption</td>\n",
       "      <td>https://www.imdb.com/title/tt0111161/</td>\n",
       "      <td>A banker convicted of uxoricide forms a friend...</td>\n",
       "      <td>9.3</td>\n",
       "      <td>Drama</td>\n",
       "      <td>PT2H22M</td>\n",
       "    </tr>\n",
       "    <tr>\n",
       "      <th>1</th>\n",
       "      <td>The Godfather</td>\n",
       "      <td>https://www.imdb.com/title/tt0068646/</td>\n",
       "      <td>The aging patriarch of an organized crime dyna...</td>\n",
       "      <td>9.2</td>\n",
       "      <td>Crime, Drama</td>\n",
       "      <td>PT2H55M</td>\n",
       "    </tr>\n",
       "    <tr>\n",
       "      <th>2</th>\n",
       "      <td>The Dark Knight</td>\n",
       "      <td>https://www.imdb.com/title/tt0468569/</td>\n",
       "      <td>When a menace known as the Joker wreaks havoc ...</td>\n",
       "      <td>9.0</td>\n",
       "      <td>Action, Crime, Drama</td>\n",
       "      <td>PT2H32M</td>\n",
       "    </tr>\n",
       "    <tr>\n",
       "      <th>3</th>\n",
       "      <td>The Godfather Part II</td>\n",
       "      <td>https://www.imdb.com/title/tt0071562/</td>\n",
       "      <td>The early life and career of Vito Corleone in ...</td>\n",
       "      <td>9.0</td>\n",
       "      <td>Crime, Drama</td>\n",
       "      <td>PT3H22M</td>\n",
       "    </tr>\n",
       "    <tr>\n",
       "      <th>4</th>\n",
       "      <td>12 Angry Men</td>\n",
       "      <td>https://www.imdb.com/title/tt0050083/</td>\n",
       "      <td>The jury in a New York City murder trial is fr...</td>\n",
       "      <td>9.0</td>\n",
       "      <td>Crime, Drama</td>\n",
       "      <td>PT1H36M</td>\n",
       "    </tr>\n",
       "  </tbody>\n",
       "</table>\n",
       "</div>"
      ],
      "text/plain": [
       "                      Title                                    URL  \\\n",
       "0  The Shawshank Redemption  https://www.imdb.com/title/tt0111161/   \n",
       "1             The Godfather  https://www.imdb.com/title/tt0068646/   \n",
       "2           The Dark Knight  https://www.imdb.com/title/tt0468569/   \n",
       "3     The Godfather Part II  https://www.imdb.com/title/tt0071562/   \n",
       "4              12 Angry Men  https://www.imdb.com/title/tt0050083/   \n",
       "\n",
       "                                         Description  Rating  \\\n",
       "0  A banker convicted of uxoricide forms a friend...     9.3   \n",
       "1  The aging patriarch of an organized crime dyna...     9.2   \n",
       "2  When a menace known as the Joker wreaks havoc ...     9.0   \n",
       "3  The early life and career of Vito Corleone in ...     9.0   \n",
       "4  The jury in a New York City murder trial is fr...     9.0   \n",
       "\n",
       "                  Genre Duration  \n",
       "0                 Drama  PT2H22M  \n",
       "1          Crime, Drama  PT2H55M  \n",
       "2  Action, Crime, Drama  PT2H32M  \n",
       "3          Crime, Drama  PT3H22M  \n",
       "4          Crime, Drama  PT1H36M  "
      ]
     },
     "execution_count": 7,
     "metadata": {},
     "output_type": "execute_result"
    }
   ],
   "source": [
    "# Import necessary libraries\n",
    "import pandas as pd\n",
    "\n",
    "# Load the CSV file\n",
    "df = pd.read_csv(r'C:\\Users\\Binay\\OneDrive\\Desktop\\Project-1\\imdb_top_250.csv')\n",
    "\n",
    "# Display the first few rows to understand the data structure\n",
    "df.head()\n",
    "\n"
   ]
  },
  {
   "cell_type": "code",
   "execution_count": 9,
   "id": "a3e5d3be-a9de-46cd-bb21-4d6e84b4862d",
   "metadata": {},
   "outputs": [
    {
     "data": {
      "text/plain": [
       "Title          0\n",
       "URL            0\n",
       "Description    0\n",
       "Rating         0\n",
       "Genre          0\n",
       "Duration       0\n",
       "dtype: int64"
      ]
     },
     "execution_count": 9,
     "metadata": {},
     "output_type": "execute_result"
    }
   ],
   "source": [
    "# Check for missing values in the dataset\n",
    "df.isnull().sum()\n",
    "\n"
   ]
  },
  {
   "cell_type": "code",
   "execution_count": 13,
   "id": "e5163674-6539-40ac-b536-4be59740b76a",
   "metadata": {},
   "outputs": [
    {
     "name": "stdout",
     "output_type": "stream",
     "text": [
      "Number of duplicate rows: 0\n"
     ]
    }
   ],
   "source": [
    "duplicates = df.duplicated().sum()\n",
    "print(f\"Number of duplicate rows: {duplicates}\")\n"
   ]
  },
  {
   "cell_type": "code",
   "execution_count": 15,
   "id": "64555435-b6fc-4751-987c-4b854bb289c9",
   "metadata": {},
   "outputs": [],
   "source": [
    "df.columns = df.columns.str.strip().str.lower().str.replace(' ', '_')\n",
    "\n"
   ]
  },
  {
   "cell_type": "code",
   "execution_count": 17,
   "id": "1675afa5-9399-4479-93ea-19056b0826e7",
   "metadata": {},
   "outputs": [],
   "source": [
    "# Strip whitespace from string columns\n",
    "df['title'] = df['title'].str.strip()\n",
    "df['genre'] = df['genre'].str.strip()\n",
    "\n"
   ]
  },
  {
   "cell_type": "code",
   "execution_count": 19,
   "id": "3c942d57-de27-4ec4-8e77-1016309a4e13",
   "metadata": {},
   "outputs": [],
   "source": [
    "# Convert duration from \"PTxHxM\" format (if applicable)\n",
    "df['duration'] = df['duration'].str.extract(r'PT(\\d+)H(\\d+)M').fillna(0).astype(int).apply(lambda x: x[0]*60 + x[1], axis=1)\n",
    "df['rating'] = df['rating'].astype(float)\n"
   ]
  },
  {
   "cell_type": "code",
   "execution_count": 21,
   "id": "d0dcfac1-99c8-4715-a29c-63af6a20e76c",
   "metadata": {},
   "outputs": [
    {
     "name": "stdout",
     "output_type": "stream",
     "text": [
      "Cleaned data saved successfully!\n"
     ]
    }
   ],
   "source": [
    "df.to_csv('cleaned_imdb_top_250.csv', index=False)\n",
    "print(\"Cleaned data saved successfully!\")\n"
   ]
  }
 ],
 "metadata": {
  "kernelspec": {
   "display_name": "Python 3 (ipykernel)",
   "language": "python",
   "name": "python3"
  },
  "language_info": {
   "codemirror_mode": {
    "name": "ipython",
    "version": 3
   },
   "file_extension": ".py",
   "mimetype": "text/x-python",
   "name": "python",
   "nbconvert_exporter": "python",
   "pygments_lexer": "ipython3",
   "version": "3.12.7"
  }
 },
 "nbformat": 4,
 "nbformat_minor": 5
}
